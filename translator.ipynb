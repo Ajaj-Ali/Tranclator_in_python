{
 "cells": [
  {
   "cell_type": "code",
   "execution_count": null,
   "id": "157e41d1-a981-4709-bc64-247079138455",
   "metadata": {},
   "outputs": [],
   "source": [
    "from tkinter import*\n",
    "from tkinter import ttk\n",
    "from googletrans import Translator, LANGUAGES"
   ]
  },
  {
   "cell_type": "code",
   "execution_count": null,
   "id": "2eb741bb",
   "metadata": {},
   "outputs": [],
   "source": [
    "!pip install googletrans"
   ]
  },
  {
   "cell_type": "code",
   "execution_count": null,
   "id": "c7669eef-1891-4bf9-bf4b-bb5349985150",
   "metadata": {},
   "outputs": [],
   "source": [
    "def change(text=\"type\",src=\"English\",dest=\"Hindi\"):\n",
    "    text1=text\n",
    "    src1=src\n",
    "    dest1=dest\n",
    "    trans = Translator()\n",
    "    trans1 = trans.translate(text, src=src1, dest=dest1)\n",
    "    return trans1.text\n",
    "\n",
    "\n",
    "def data():\n",
    "    s = comb_sor.get()\n",
    "    d = comb_dest.get()\n",
    "    masg  = Sor_txt.get(1.0,END)\n",
    "    textget = change(text = masg, src=s, dest=d)\n",
    "    dest_txt.delete(1.0,END)\n",
    "    dest_txt.insert(END, textget)\n",
    "    \n",
    "    \n",
    "root = Tk()\n",
    "root.title(\"Translator\")\n",
    "root.geometry(\"600x800\")\n",
    "root.config(bg='#07051b')\n",
    "\n",
    "lab_txt = Label(root,text=\"Tranlator\",font=(\"Time New Roman\",40,\"bold\"),fg=\"White\",bg=\"#07051b\")\n",
    "lab_txt.place(x=105,y=40,height = 50, width=350)\n",
    "\n",
    "frame = Frame(root).pack(side=BOTTOM)\n",
    "\n",
    "lab_txt = Label(root,text=\"Source Text\",font=(\"Time New Roman\",20,\"bold\"),fg=\"White\",bg=\"#07051b\")\n",
    "lab_txt.place(x=120,y=100,height = 20, width=300)\n",
    "\n",
    "\n",
    "Sor_txt = Text(frame, font=(\"Time New Roman\", 20, \"bold\"), wrap=WORD)\n",
    "Sor_txt.place(x=10,y=150,height=200,width=580)\n",
    "\n",
    "\n",
    "list_text = list(LANGUAGES.values())\n",
    "\n",
    "\n",
    "comb_sor = ttk.Combobox(frame, value=list_text)\n",
    "comb_sor.place(x=30,y=400,height=35,width=150)\n",
    "comb_sor.set(\"English\")\n",
    "\n",
    "\n",
    "botton_change = Button(frame, text=\"Translate\", relief = RAISED, command=data)\n",
    "botton_change.place(x=210, y=400,height=35,width=150)\n",
    "\n",
    "\n",
    "comb_dest = ttk.Combobox(frame, value=list_text)\n",
    "comb_dest.place(x=390,y=400,height=35,width=150)\n",
    "comb_dest.set(\"English\")\n",
    "\n",
    "lab_txt = Label(root,text=\"Dest.. Text\",font=(\"Time New Roman\",20,\"bold\"),fg=\"White\",bg=\"#07051b\")\n",
    "lab_txt.place(x=120,y=480,height = 20, width=300)\n",
    "\n",
    "dest_txt = Text(frame, font=(\"Time New Roman\", 20, \"bold\"), wrap=WORD)\n",
    "dest_txt.place(x=10,y=520,height=200,width=580)\n",
    "\n",
    "\n",
    "\n",
    "root.mainloop()"
   ]
  },
  {
   "cell_type": "code",
   "execution_count": null,
   "id": "3a3ee325-cbc7-48d5-b963-fb2179e90ac4",
   "metadata": {},
   "outputs": [],
   "source": []
  }
 ],
 "metadata": {
  "kernelspec": {
   "display_name": "Python 3 (ipykernel)",
   "language": "python",
   "name": "python3"
  },
  "language_info": {
   "codemirror_mode": {
    "name": "ipython",
    "version": 3
   },
   "file_extension": ".py",
   "mimetype": "text/x-python",
   "name": "python",
   "nbconvert_exporter": "python",
   "pygments_lexer": "ipython3",
   "version": "3.8.10"
  },
  "widgets": {
   "application/vnd.jupyter.widget-state+json": {
    "state": {},
    "version_major": 2,
    "version_minor": 0
   }
  }
 },
 "nbformat": 4,
 "nbformat_minor": 5
}
